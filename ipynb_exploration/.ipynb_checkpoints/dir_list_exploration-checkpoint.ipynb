{
 "cells": [
  {
   "cell_type": "code",
   "execution_count": 12,
   "id": "aae7672d",
   "metadata": {},
   "outputs": [
    {
     "name": "stdout",
     "output_type": "stream",
     "text": [
      "[1, 4, 9, 16, 25]\n"
     ]
    }
   ],
   "source": [
    "#using result\n",
    "def square_numbers(nums):\n",
    "    result = []\n",
    "    for i in nums:\n",
    "        result.append(i*i)\n",
    "    return result\n",
    "\n",
    "test_nums_result = square_numbers([1,2,3,4,5])\n",
    "\n",
    "print(test_nums_result) #[1, 4, 9, 16, 25]\n",
    "    "
   ]
  },
  {
   "cell_type": "code",
   "execution_count": 13,
   "id": "4b08f9ad",
   "metadata": {},
   "outputs": [
    {
     "name": "stdout",
     "output_type": "stream",
     "text": [
      "<generator object square_numbers at 0x000001D63EDBEC10>\n"
     ]
    }
   ],
   "source": [
    "# using yeild (it's now a generator)\n",
    "def square_numbers(nums):\n",
    "    result = []\n",
    "    for i in nums:\n",
    "        yield (i*i)\n",
    "\n",
    "test_nums_generator = square_numbers([1,2,3,4,5])\n",
    "\n",
    "print(test_nums_generator) #<generator object square_numbers at 0x000001D63EDBE6D0>"
   ]
  },
  {
   "cell_type": "code",
   "execution_count": 14,
   "id": "3fbc78cf",
   "metadata": {},
   "outputs": [
    {
     "name": "stdout",
     "output_type": "stream",
     "text": [
      "1\n",
      "4\n",
      "9\n",
      "16\n",
      "25\n"
     ]
    }
   ],
   "source": [
    "# to get results use next(<generator object>)\n",
    "for i in range(5):\n",
    "    print(next(test_nums_generator))"
   ]
  },
  {
   "cell_type": "code",
   "execution_count": 15,
   "id": "590be981",
   "metadata": {},
   "outputs": [
    {
     "name": "stdout",
     "output_type": "stream",
     "text": [
      "1\n",
      "4\n",
      "9\n",
      "16\n",
      "25\n"
     ]
    },
    {
     "ename": "StopIteration",
     "evalue": "",
     "output_type": "error",
     "traceback": [
      "\u001b[1;31m-------------------------------------------------------------------------\u001b[0m",
      "\u001b[1;31mStopIteration\u001b[0m                           Traceback (most recent call last)",
      "\u001b[1;32m~\\AppData\\Local\\Temp/ipykernel_24024/1874035133.py\u001b[0m in \u001b[0;36m<module>\u001b[1;34m\u001b[0m\n\u001b[0;32m      3\u001b[0m \u001b[1;33m\u001b[0m\u001b[0m\n\u001b[0;32m      4\u001b[0m \u001b[1;32mfor\u001b[0m \u001b[0mi\u001b[0m \u001b[1;32min\u001b[0m \u001b[0mrange\u001b[0m\u001b[1;33m(\u001b[0m\u001b[1;36m6\u001b[0m\u001b[1;33m)\u001b[0m\u001b[1;33m:\u001b[0m\u001b[1;33m\u001b[0m\u001b[1;33m\u001b[0m\u001b[0m\n\u001b[1;32m----> 5\u001b[1;33m     \u001b[0mprint\u001b[0m\u001b[1;33m(\u001b[0m\u001b[0mnext\u001b[0m\u001b[1;33m(\u001b[0m\u001b[0mtest_nums_generator\u001b[0m\u001b[1;33m)\u001b[0m\u001b[1;33m)\u001b[0m\u001b[1;33m\u001b[0m\u001b[1;33m\u001b[0m\u001b[0m\n\u001b[0m",
      "\u001b[1;31mStopIteration\u001b[0m: "
     ]
    }
   ],
   "source": [
    "#when you run out of iterations you get a \"StopIteration\" exception\n",
    "test_nums_generator = square_numbers([1,2,3,4,5])\n",
    "\n",
    "for i in range(6):\n",
    "    print(next(test_nums_generator))"
   ]
  },
  {
   "cell_type": "code",
   "execution_count": 16,
   "id": "271d1381",
   "metadata": {},
   "outputs": [
    {
     "name": "stdout",
     "output_type": "stream",
     "text": [
      "1\n",
      "4\n",
      "9\n",
      "16\n",
      "25\n"
     ]
    }
   ],
   "source": [
    "#you can also use a different for loop flavor to get results from the generator\n",
    "#(don't need to use next) \n",
    "test_nums_generator = square_numbers([1,2,3,4,5])\n",
    "\n",
    "for num in test_nums_generator:\n",
    "    print(num)"
   ]
  },
  {
   "cell_type": "code",
   "execution_count": 17,
   "id": "0068b56b",
   "metadata": {},
   "outputs": [
    {
     "name": "stdout",
     "output_type": "stream",
     "text": [
      "[1, 4, 9, 16, 25]\n"
     ]
    }
   ],
   "source": [
    "#can also create a generator in list comprehension format!!\n",
    "#regular list comprehension:\n",
    "\n",
    "list_comp_nums = [x*x for x in [1,2,3,4,5]]\n",
    "\n",
    "print(list_comp_nums) #[1, 4, 9, 16, 25]"
   ]
  },
  {
   "cell_type": "code",
   "execution_count": 19,
   "id": "ca5f4fd8",
   "metadata": {},
   "outputs": [
    {
     "name": "stdout",
     "output_type": "stream",
     "text": [
      "<generator object <genexpr> at 0x000001D63EDD9970>\n"
     ]
    }
   ],
   "source": [
    "#generator\n",
    "\n",
    "list_comp_nums_generator = (x*x for x in [1,2,3,4,5])\n",
    "\n",
    "print(list_comp_nums_generator) #<generator object <genexpr> at 0x000001D63EDD9970>"
   ]
  },
  {
   "cell_type": "code",
   "execution_count": 20,
   "id": "c9168972",
   "metadata": {},
   "outputs": [
    {
     "data": {
      "text/plain": [
       "[1, 4, 9, 16, 25]"
      ]
     },
     "execution_count": 20,
     "metadata": {},
     "output_type": "execute_result"
    }
   ],
   "source": [
    "#to see all objects in the generator cast the generator object to a list (or use a for loop)\n",
    "print(list(list_comp_nums_generator)) #[1, 4, 9, 16, 25]"
   ]
  },
  {
   "cell_type": "code",
   "execution_count": 25,
   "id": "92b75139",
   "metadata": {},
   "outputs": [],
   "source": [
    "import random\n",
    "def p_generator(number):\n",
    "    for i in range(number):\n",
    "        p = {\n",
    "            'id':i,\n",
    "            'name':random.choice('wrhlwekjhtjkwehrtkwerhtjk')\n",
    "        }\n",
    "        yield p\n",
    "    \n",
    "pep = p_generator(10)\n"
   ]
  },
  {
   "cell_type": "code",
   "execution_count": 26,
   "id": "5e9f44ea",
   "metadata": {},
   "outputs": [
    {
     "name": "stdout",
     "output_type": "stream",
     "text": [
      "{'id': 0, 'name': 'r'}\n",
      "{'id': 1, 'name': 'j'}\n",
      "{'id': 2, 'name': 't'}\n",
      "{'id': 3, 'name': 'k'}\n",
      "{'id': 4, 'name': 'w'}\n",
      "{'id': 5, 'name': 'k'}\n",
      "{'id': 6, 'name': 'e'}\n",
      "{'id': 7, 'name': 'r'}\n",
      "{'id': 8, 'name': 'h'}\n",
      "{'id': 9, 'name': 'j'}\n"
     ]
    },
    {
     "ename": "StopIteration",
     "evalue": "",
     "output_type": "error",
     "traceback": [
      "\u001b[1;31m-------------------------------------------------------------------------\u001b[0m",
      "\u001b[1;31mStopIteration\u001b[0m                           Traceback (most recent call last)",
      "\u001b[1;32m~\\AppData\\Local\\Temp/ipykernel_24024/1414056017.py\u001b[0m in \u001b[0;36m<module>\u001b[1;34m\u001b[0m\n\u001b[0;32m      1\u001b[0m \u001b[1;32mfor\u001b[0m \u001b[0mi\u001b[0m \u001b[1;32min\u001b[0m \u001b[0mrange\u001b[0m\u001b[1;33m(\u001b[0m\u001b[1;36m11\u001b[0m\u001b[1;33m)\u001b[0m\u001b[1;33m:\u001b[0m\u001b[1;33m\u001b[0m\u001b[1;33m\u001b[0m\u001b[0m\n\u001b[1;32m----> 2\u001b[1;33m     \u001b[0mprint\u001b[0m\u001b[1;33m(\u001b[0m\u001b[0mnext\u001b[0m\u001b[1;33m(\u001b[0m\u001b[0mpep\u001b[0m\u001b[1;33m)\u001b[0m\u001b[1;33m)\u001b[0m\u001b[1;33m\u001b[0m\u001b[1;33m\u001b[0m\u001b[0m\n\u001b[0m",
      "\u001b[1;31mStopIteration\u001b[0m: "
     ]
    }
   ],
   "source": [
    "for i in range(11):\n",
    "    print(next(pep))"
   ]
  },
  {
   "cell_type": "code",
   "execution_count": 39,
   "id": "652d5044",
   "metadata": {},
   "outputs": [],
   "source": [
    "\n",
    "if None:\n",
    "    print(\"none\")"
   ]
  },
  {
   "cell_type": "code",
   "execution_count": null,
   "id": "4101a3b3",
   "metadata": {},
   "outputs": [],
   "source": []
  },
  {
   "cell_type": "code",
   "execution_count": null,
   "id": "a34e2978",
   "metadata": {},
   "outputs": [],
   "source": []
  },
  {
   "cell_type": "code",
   "execution_count": null,
   "id": "597a5338",
   "metadata": {},
   "outputs": [],
   "source": []
  },
  {
   "cell_type": "code",
   "execution_count": null,
   "id": "1761f065",
   "metadata": {},
   "outputs": [],
   "source": []
  },
  {
   "cell_type": "code",
   "execution_count": 130,
   "id": "5bc1ffd0",
   "metadata": {},
   "outputs": [],
   "source": [
    "from pathlib import Path\n",
    "from itertools import islice\n",
    "\n",
    "space =  '    '\n",
    "branch = '│   '\n",
    "tee =    '├── '\n",
    "last =   '└── '\n",
    "\n",
    "def tree(input_dir_path: Path, level: int=-1, limit_to_directories: bool=False, length_limit: int=1000):\n",
    "    \"\"\"Given a directory Path object print a visual tree structure\"\"\"\n",
    "    \n",
    "    dir_path = Path(input_dir_path) # accept string coerceable to Path\n",
    "    \n",
    "    print(f\"dir_path: {dir_path}\\n\")\n",
    "    \n",
    "    files = 0\n",
    "    directories = 0\n",
    "    \n",
    "    \n",
    "    \n",
    "    def inner(dir_path: Path, prefix: str='', level=-1):\n",
    "        nonlocal files, directories\n",
    "        \n",
    "        if not level: \n",
    "            return # 0, stop iterating\n",
    "        \n",
    "        if limit_to_directories:\n",
    "            #contents = [d for d in dir_path.iterdir() if d.is_dir()]\n",
    "            #cannot use the above expression with external drives because of permissions issues\n",
    "            contents = []\n",
    "            for d in dir_path.iterdir():\n",
    "                if \"$RECYCLE.BIN\" in str(d):\n",
    "                    pass\n",
    "                elif \"System Volume Information\" in str(d):\n",
    "                    pass\n",
    "                elif d.is_dir():\n",
    "                    contents.append(d)\n",
    "\n",
    "            #to get the right numbers for the files inside of each sub directory\n",
    "            #count the files inside each then add that to the items to be zipped\n",
    "            dir_file_counts = []\n",
    "            for d in contents:\n",
    "                \n",
    "                num_files = [f for f in d.iterdir() if f.is_file()]\n",
    "                dir_file_counts.append(len(num_files))\n",
    "                \n",
    "        else: \n",
    "            contents = list(dir_path.iterdir())\n",
    "            \n",
    "        pointers = [tee] * (len(contents) - 1) + [last]\n",
    "        \n",
    "        for pointer, path, file_count in zip(pointers, contents, dir_file_counts):\n",
    "            \n",
    "            if path.is_dir():\n",
    "                yield prefix + pointer + path.name + f\" (files: {file_count})\"\n",
    "                \n",
    "                directories += 1\n",
    "                \n",
    "                extension = branch if pointer == tee else space \n",
    "                \n",
    "                yield from inner(path, prefix=prefix+extension, level=level-1)\n",
    "                \n",
    "            elif not limit_to_directories:\n",
    "                \n",
    "                yield prefix + pointer + path.name\n",
    "                \n",
    "                files += 1\n",
    "                       \n",
    "    num_files = len([f for f in dir_path.iterdir() if f.is_file()])\n",
    "    \n",
    "    if dir_path.name:\n",
    "        print(dir_path.name + f\" (files: {num_files})\")\n",
    "    else:\n",
    "        print(input_dir_path + f\" (files: {num_files})\")\n",
    "    \n",
    "    iterator = inner(dir_path, level=level)\n",
    "    \n",
    "    for line in islice(iterator, length_limit):\n",
    "        print(line)\n",
    "        \n",
    "    if next(iterator, None):\n",
    "        #if we have \n",
    "        print(f'... length_limit, {length_limit}, reached, counted:')\n",
    "        \n",
    "    print(f'\\n{directories} directories' + (f', {files} files' if files else ''))\n"
   ]
  },
  {
   "cell_type": "code",
   "execution_count": 131,
   "id": "3fc1aa48",
   "metadata": {},
   "outputs": [
    {
     "name": "stdout",
     "output_type": "stream",
     "text": [
      "dir_path: D:\\\n",
      "\n",
      "D:/. (files: 0)\n",
      "├── Device Drivers and Software (files: 1)\n",
      "│   ├── Extras (files: 2)\n",
      "│   │   └── WD SES Device Driver (files: 4)\n",
      "│   ├── Locale (files: 1)\n",
      "│   │   ├── cs_CZ.lproj (files: 1)\n",
      "│   │   ├── de_DE.lproj (files: 1)\n",
      "│   │   ├── en_US.lproj (files: 1)\n",
      "│   │   ├── es_ES.lproj (files: 1)\n",
      "│   │   ├── fr_FR.lproj (files: 1)\n",
      "│   │   ├── hu_HU.lproj (files: 1)\n",
      "│   │   ├── it_IT.lproj (files: 1)\n",
      "│   │   ├── ja_JP.lproj (files: 1)\n",
      "│   │   ├── ko_KR.lproj (files: 1)\n",
      "│   │   ├── nb_NO.lproj (files: 1)\n",
      "│   │   ├── nl_NL.lproj (files: 1)\n",
      "│   │   ├── pl_PL.lproj (files: 1)\n",
      "│   │   ├── pt_BR.lproj (files: 1)\n",
      "│   │   ├── ru_RU.lproj (files: 1)\n",
      "│   │   ├── sv_SE.lproj (files: 1)\n",
      "│   │   ├── tr_TR.lproj (files: 1)\n",
      "│   │   ├── zh_CN.lproj (files: 1)\n",
      "│   │   └── zh_TW.lproj (files: 1)\n",
      "│   ├── My Passport Apps for Mac (files: 1)\n",
      "│   ├── User Manuals (files: 0)\n",
      "│   │   ├── ARA (files: 1)\n",
      "│   │   ├── CHS (files: 1)\n",
      "│   │   ├── CHT (files: 1)\n",
      "│   │   ├── CZE (files: 1)\n",
      "│   │   ├── DAN (files: 1)\n",
      "│   │   ├── DEU (files: 1)\n",
      "│   │   ├── ENG (files: 1)\n",
      "│   │   ├── ESN (files: 1)\n",
      "│   │   ├── FIN (files: 1)\n",
      "│   │   ├── FRA (files: 1)\n",
      "│   │   ├── GRE (files: 1)\n",
      "│   │   ├── HUN (files: 1)\n",
      "│   │   ├── ITA (files: 1)\n",
      "│   │   ├── JPN (files: 1)\n",
      "│   │   ├── KOR (files: 1)\n",
      "│   │   ├── NLD (files: 1)\n",
      "│   │   ├── NOR (files: 1)\n",
      "│   │   ├── POL (files: 1)\n",
      "│   │   ├── POR (files: 1)\n",
      "│   │   ├── RON (files: 1)\n",
      "│   │   ├── RUS (files: 1)\n",
      "│   │   ├── SVK (files: 1)\n",
      "│   │   ├── SWE (files: 1)\n",
      "│   │   └── TUR (files: 1)\n",
      "│   └── WD Apps for Windows (files: 6)\n",
      "│       └── XP64 (files: 1)\n",
      "├── VIDEOS - Documentaries Movies TV Shows Etc (files: 0)\n",
      "│   ├── Dexter's Lab - Season 1 (files: 15)\n",
      "│   ├── Dexter's Lab - Season 2 (files: 42)\n",
      "│   ├── Documentaries (files: 134)\n",
      "│   ├── Feature Films (files: 31)\n",
      "│   ├── Short Films (files: 34)\n",
      "│   └── tv shows (files: 87)\n",
      "├── VIDEOS - Humor Interest (files: 4999)\n",
      "│   └── New folder (files: 3)\n",
      "├── VIDEOS - Pure Science (files: 214)\n",
      "├── VIDEOS - Survival Skills Etc (files: 111)\n",
      "├── VIDEOS - Workout Exercise Etc (files: 11)\n",
      "├── VIDEOS - [Mostly NSFW] Random Un-Assorted Etc (files: 3558)\n",
      "├── VIDEOS - [NSFW] (files: 3998)\n",
      "│   ├── BLACKED (files: 82)\n",
      "│   │   └── Blacked - Dakota James Riley Reid (files: 24)\n",
      "│   ├── Fake Taxi (files: 25)\n",
      "│   ├── Hardtied (files: 263)\n",
      "│   ├── Miss Alice (files: 14)\n",
      "│   ├── NSFW Vines (files: 12)\n",
      "│   ├── TINY4K (files: 41)\n",
      "│   │   └── New folder (files: 5)\n",
      "│   └── [Instructional] (files: 3)\n",
      "└── WEB-M and Gifv [Mostly NSFW] (files: 29458)\n",
      "\n",
      "74 directories\n"
     ]
    }
   ],
   "source": [
    "# tree(\"C:/Users/OI/Documents/New folder\", limit_to_directories=True)\n",
    "tree(\"D:/.\", limit_to_directories=True)"
   ]
  },
  {
   "cell_type": "code",
   "execution_count": 100,
   "id": "b4341f85",
   "metadata": {},
   "outputs": [
    {
     "name": "stdout",
     "output_type": "stream",
     "text": [
      "D:\\$RECYCLE.BIN\n",
      "D:\\Device Drivers and Software\n",
      "D:\\System Volume Information\n",
      "D:\\VIDEOS - Documentaries Movies TV Shows Etc\n",
      "D:\\VIDEOS - Humor Interest\n",
      "D:\\VIDEOS - Pure Science\n",
      "D:\\VIDEOS - Survival Skills Etc\n",
      "D:\\VIDEOS - Workout Exercise Etc\n",
      "D:\\VIDEOS - [Mostly NSFW] Random Un-Assorted Etc\n",
      "D:\\VIDEOS - [NSFW]\n",
      "D:\\WEB-M and Gifv [Mostly NSFW]\n"
     ]
    }
   ],
   "source": [
    "dir_path = \"D:/.\"\n",
    "dir_path = Path(dir_path)\n",
    "for file in dir_path.iterdir():\n",
    "    print(file)"
   ]
  },
  {
   "cell_type": "code",
   "execution_count": 122,
   "id": "8dd57a72",
   "metadata": {},
   "outputs": [
    {
     "name": "stdout",
     "output_type": "stream",
     "text": [
      "D:\\$RECYCLE.BIN\n",
      "D:\\System Volume Information\n"
     ]
    }
   ],
   "source": [
    "contents = []\n",
    "for d in dir_path.iterdir():\n",
    "#     print(str(d))\n",
    "    if \"$\" in str(d):\n",
    "        print(d)\n",
    "        pass\n",
    "    elif \"System Volume Information\" in str(d):\n",
    "        print(d)\n",
    "        pass\n",
    "    elif d.is_dir():\n",
    "        contents.append(d)\n",
    "        \n"
   ]
  },
  {
   "cell_type": "code",
   "execution_count": 123,
   "id": "680aa36f",
   "metadata": {},
   "outputs": [
    {
     "name": "stdout",
     "output_type": "stream",
     "text": [
      "D:\\Device Drivers and Software\n",
      "D:\\VIDEOS - Documentaries Movies TV Shows Etc\n",
      "D:\\VIDEOS - Humor Interest\n",
      "D:\\VIDEOS - Pure Science\n",
      "D:\\VIDEOS - Survival Skills Etc\n",
      "D:\\VIDEOS - Workout Exercise Etc\n",
      "D:\\VIDEOS - [Mostly NSFW] Random Un-Assorted Etc\n",
      "D:\\VIDEOS - [NSFW]\n",
      "D:\\WEB-M and Gifv [Mostly NSFW]\n"
     ]
    }
   ],
   "source": [
    "for i in contents:\n",
    "    print(i)"
   ]
  },
  {
   "cell_type": "code",
   "execution_count": null,
   "id": "9cbca05d",
   "metadata": {},
   "outputs": [],
   "source": []
  },
  {
   "cell_type": "code",
   "execution_count": null,
   "id": "12f8017d",
   "metadata": {},
   "outputs": [],
   "source": []
  },
  {
   "cell_type": "code",
   "execution_count": null,
   "id": "6f44d67f",
   "metadata": {},
   "outputs": [],
   "source": []
  },
  {
   "cell_type": "code",
   "execution_count": null,
   "id": "929f2f89",
   "metadata": {},
   "outputs": [],
   "source": []
  },
  {
   "cell_type": "code",
   "execution_count": null,
   "id": "9f50cd27",
   "metadata": {},
   "outputs": [],
   "source": []
  },
  {
   "cell_type": "code",
   "execution_count": null,
   "id": "21f65285",
   "metadata": {},
   "outputs": [],
   "source": []
  },
  {
   "cell_type": "code",
   "execution_count": null,
   "id": "45850857",
   "metadata": {},
   "outputs": [],
   "source": []
  },
  {
   "cell_type": "code",
   "execution_count": null,
   "id": "6380bb84",
   "metadata": {},
   "outputs": [],
   "source": []
  },
  {
   "cell_type": "code",
   "execution_count": null,
   "id": "2ddbef68",
   "metadata": {},
   "outputs": [],
   "source": []
  },
  {
   "cell_type": "code",
   "execution_count": null,
   "id": "d5131261",
   "metadata": {},
   "outputs": [],
   "source": []
  },
  {
   "cell_type": "code",
   "execution_count": null,
   "id": "9e50c424",
   "metadata": {},
   "outputs": [],
   "source": []
  },
  {
   "cell_type": "code",
   "execution_count": null,
   "id": "f1a0cb28",
   "metadata": {},
   "outputs": [],
   "source": []
  },
  {
   "cell_type": "code",
   "execution_count": null,
   "id": "d90e1790",
   "metadata": {},
   "outputs": [],
   "source": []
  },
  {
   "cell_type": "code",
   "execution_count": null,
   "id": "4db1eab0",
   "metadata": {},
   "outputs": [],
   "source": []
  },
  {
   "cell_type": "code",
   "execution_count": null,
   "id": "88b64b3c",
   "metadata": {},
   "outputs": [],
   "source": []
  },
  {
   "cell_type": "code",
   "execution_count": null,
   "id": "23fad8b1",
   "metadata": {},
   "outputs": [],
   "source": []
  },
  {
   "cell_type": "code",
   "execution_count": null,
   "id": "cedf54a0",
   "metadata": {},
   "outputs": [],
   "source": []
  },
  {
   "cell_type": "code",
   "execution_count": null,
   "id": "c5c135ba",
   "metadata": {},
   "outputs": [],
   "source": []
  },
  {
   "cell_type": "code",
   "execution_count": null,
   "id": "87c13db3",
   "metadata": {},
   "outputs": [],
   "source": []
  },
  {
   "cell_type": "code",
   "execution_count": null,
   "id": "479df05c",
   "metadata": {},
   "outputs": [],
   "source": []
  },
  {
   "cell_type": "code",
   "execution_count": null,
   "id": "763198ca",
   "metadata": {},
   "outputs": [],
   "source": []
  },
  {
   "cell_type": "code",
   "execution_count": null,
   "id": "183bdd14",
   "metadata": {},
   "outputs": [],
   "source": []
  },
  {
   "cell_type": "code",
   "execution_count": null,
   "id": "f80bbced",
   "metadata": {},
   "outputs": [],
   "source": []
  },
  {
   "cell_type": "code",
   "execution_count": null,
   "id": "d83947b3",
   "metadata": {},
   "outputs": [],
   "source": []
  },
  {
   "cell_type": "code",
   "execution_count": null,
   "id": "e489403b",
   "metadata": {},
   "outputs": [],
   "source": []
  },
  {
   "cell_type": "code",
   "execution_count": null,
   "id": "9b484661",
   "metadata": {},
   "outputs": [],
   "source": []
  }
 ],
 "metadata": {
  "kernelspec": {
   "display_name": "Python 3 (ipykernel)",
   "language": "python",
   "name": "python3"
  },
  "language_info": {
   "codemirror_mode": {
    "name": "ipython",
    "version": 3
   },
   "file_extension": ".py",
   "mimetype": "text/x-python",
   "name": "python",
   "nbconvert_exporter": "python",
   "pygments_lexer": "ipython3",
   "version": "3.9.7"
  }
 },
 "nbformat": 4,
 "nbformat_minor": 5
}
